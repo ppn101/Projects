{
  "nbformat": 4,
  "nbformat_minor": 0,
  "metadata": {
    "colab": {
      "name": "Madlibs.ipynb",
      "provenance": [],
      "authorship_tag": "ABX9TyMxnwSVrrWTH6P1b9atOlJ/",
      "include_colab_link": true
    },
    "kernelspec": {
      "name": "python3",
      "display_name": "Python 3"
    },
    "language_info": {
      "name": "python"
    }
  },
  "cells": [
    {
      "cell_type": "markdown",
      "metadata": {
        "id": "view-in-github",
        "colab_type": "text"
      },
      "source": [
        "<a href=\"https://colab.research.google.com/github/ppn101/Projects/blob/main/Madlibs.ipynb\" target=\"_parent\"><img src=\"https://colab.research.google.com/assets/colab-badge.svg\" alt=\"Open In Colab\"/></a>"
      ]
    },
    {
      "cell_type": "code",
      "execution_count": 1,
      "metadata": {
        "id": "z93nwP0dwc6Q"
      },
      "outputs": [],
      "source": [
        "#I will be using string concatenation to build the madlibs game. In this game, user needs to enter string values for some predefined questions to generate a madlibs script             "
      ]
    },
    {
      "cell_type": "code",
      "source": [
        "king = \"Pranjal\"\n",
        "print(f\"the ruler of this kingdom is {king}\")"
      ],
      "metadata": {
        "colab": {
          "base_uri": "https://localhost:8080/"
        },
        "id": "fcx6Wn-jwtgy",
        "outputId": "2d47c53b-9701-4778-aa0d-cf0cd0af6179"
      },
      "execution_count": 2,
      "outputs": [
        {
          "output_type": "stream",
          "name": "stdout",
          "text": [
            "the ruler of this kingdom is Pranjal\n"
          ]
        }
      ]
    },
    {
      "cell_type": "code",
      "source": [
        "see = input(\"what can you see: \")\n",
        "hear = input(\"what can you hear:\")\n",
        "touch = input(\"what can you touch:\")\n",
        "smell = input(\"what can you smell:\")\n",
        "\n",
        "madlib = print(f\"In my dream i was able to see a {see} riding a pig\\\n",
        " and, when i came closer to it, i could hear a loud {hear} song. When this happened, i fell on a {touch} \\\n",
        "eventhough it was not bad but i could smell {smell} in the air\")"
      ],
      "metadata": {
        "colab": {
          "base_uri": "https://localhost:8080/"
        },
        "id": "GZXs4Gxzw7GM",
        "outputId": "855a1b3f-c350-461a-87ad-22473e8fa0d2"
      },
      "execution_count": 4,
      "outputs": [
        {
          "output_type": "stream",
          "name": "stdout",
          "text": [
            "what can you see: Frog\n",
            "what can you hear:Linkin park\n",
            "what can you touch:Mango\n",
            "what can you smell:Fish\n",
            "In my dream i was able to see a Frog riding a pigwhen i came closer to it, i could hear a loud Linkin park. When this happened, i fell on a Mango eventhough it was not bad but i could smell Fish in the air\n"
          ]
        }
      ]
    },
    {
      "cell_type": "code",
      "source": [
        ""
      ],
      "metadata": {
        "id": "PR3eoG3Exvit"
      },
      "execution_count": null,
      "outputs": []
    }
  ]
}