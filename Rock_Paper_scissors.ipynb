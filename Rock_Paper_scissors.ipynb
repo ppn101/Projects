{
  "nbformat": 4,
  "nbformat_minor": 0,
  "metadata": {
    "colab": {
      "name": "Rock_Paper_scissors.ipynb",
      "provenance": [],
      "authorship_tag": "ABX9TyPtGP/dDyWLMRU7a8/Rv4Wf",
      "include_colab_link": true
    },
    "kernelspec": {
      "name": "python3",
      "display_name": "Python 3"
    },
    "language_info": {
      "name": "python"
    }
  },
  "cells": [
    {
      "cell_type": "markdown",
      "metadata": {
        "id": "view-in-github",
        "colab_type": "text"
      },
      "source": [
        "<a href=\"https://colab.research.google.com/github/ppn101/Projects/blob/main/Rock_Paper_scissors.ipynb\" target=\"_parent\"><img src=\"https://colab.research.google.com/assets/colab-badge.svg\" alt=\"Open In Colab\"/></a>"
      ]
    },
    {
      "cell_type": "code",
      "execution_count": 1,
      "metadata": {
        "id": "j5s1Gj3qT81v"
      },
      "outputs": [],
      "source": [
        "import random"
      ]
    },
    {
      "cell_type": "code",
      "source": [
        "def game_play():\n",
        "  user = input(\"(r) for rock, (s) for scissors and, (p) for paper\\n\").lower()\n",
        "  comp = random.choice(['r', 's', 'p'])\n",
        "\n",
        "  if user == comp:\n",
        "    print(\"It is a tie\")\n",
        "    print(f\"user chose {user}\")\n",
        "    print(f\"pc chose {comp}\")\n",
        "  elif game_win(user, comp):\n",
        "    print(\"Player one won!\")\n",
        "    print(f\"user chose {user}\")\n",
        "    print(f\"pc chose {comp}\")\n",
        "  else: \n",
        "    print(\"PC Master Race one\")\n",
        "    print(f\"user chose {user}\")\n",
        "    print(f\"pc chose {comp}\")\n",
        "\n",
        "def game_win(player, opponent):\n",
        "  if (player == \"r\" and opponent == \"s\") or (player == \"s\" and opponent == \"p\") or (player == \"p\" and opponent == \"r\"):\n",
        "    return True                              "
      ],
      "metadata": {
        "id": "xmkdtHxRYkzV"
      },
      "execution_count": 14,
      "outputs": []
    },
    {
      "cell_type": "code",
      "source": [
        "game_play()"
      ],
      "metadata": {
        "colab": {
          "base_uri": "https://localhost:8080/"
        },
        "id": "ADtzKKNqbNOI",
        "outputId": "842a3c32-3dcd-495f-eb87-63206079d938"
      },
      "execution_count": 15,
      "outputs": [
        {
          "output_type": "stream",
          "name": "stdout",
          "text": [
            "(r) for rock, (s) for scissors and, (p) for paper\n",
            "R\n",
            "PC Master Race one\n",
            "user chose r\n",
            "pc chose p\n"
          ]
        }
      ]
    }
  ]
}