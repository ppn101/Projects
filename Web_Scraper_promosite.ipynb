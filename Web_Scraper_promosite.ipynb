{
  "nbformat": 4,
  "nbformat_minor": 0,
  "metadata": {
    "colab": {
      "name": "Web Scraper_promosite.ipynb",
      "provenance": [],
      "authorship_tag": "ABX9TyMlgso+qhFsZMCsp0pZZQaA",
      "include_colab_link": true
    },
    "kernelspec": {
      "name": "python3",
      "display_name": "Python 3"
    },
    "language_info": {
      "name": "python"
    }
  },
  "cells": [
    {
      "cell_type": "markdown",
      "metadata": {
        "id": "view-in-github",
        "colab_type": "text"
      },
      "source": [
        "<a href=\"https://colab.research.google.com/github/ppn101/Projects/blob/main/Web_Scraper_promosite.ipynb\" target=\"_parent\"><img src=\"https://colab.research.google.com/assets/colab-badge.svg\" alt=\"Open In Colab\"/></a>"
      ]
    },
    {
      "cell_type": "code",
      "execution_count": 2,
      "metadata": {
        "id": "U33yV4e4B4sB"
      },
      "outputs": [],
      "source": [
        "from bs4 import BeautifulSoup\n",
        "import requests\n",
        "import smtplib\n",
        "import time\n",
        "import datetime"
      ]
    },
    {
      "cell_type": "code",
      "source": [
        "url = 'https://www.4allpromos.com/product/himalayan-vacuum-insulated-tumbler-20-oz'\n",
        "\n",
        "headers = {\"User-Agent\": \"Mozilla/5.0 (Macintosh; Intel Mac OS X 10_15_7) AppleWebKit/537.36 (KHTML, like Gecko) Chrome/102.0.0.0 Safari/537.36\", \"Accept-Encoding\":\"gzip, deflate\", \"Accept\":\"text/html,application/xhtml+xml,application/xml;q=0.9,*/*;q=0.8\", \"DNT\":\"1\",\"Connection\":\"close\", \"Upgrade-Insecure-Requests\":\"1\"}\n",
        "\n",
        "page = requests.get(url,headers=headers)\n",
        "\n",
        "soup = BeautifulSoup(page.content,\"html.parser\")\n",
        "soup1 = BeautifulSoup(soup.prettify(),\"html.parser\")\n",
        "\n",
        "product = soup1.find('h1', class_ ='title')\n",
        "print(product)\n",
        "\n",
        "price = soup1.find(\"span\", {\"class\": \"uc-price-total uc-price\"})\n",
        "print(price)\n",
        "\n"
      ],
      "metadata": {
        "colab": {
          "base_uri": "https://localhost:8080/"
        },
        "id": "_YHkSdP6CdmB",
        "outputId": "4ce60d6f-cafe-4523-ab67-80f56800d2ec"
      },
      "execution_count": 49,
      "outputs": [
        {
          "output_type": "stream",
          "name": "stdout",
          "text": [
            "<h1 class=\"title\">\n",
            "                     Custom Himalayan Vacuum Insulated Tumbler 20 Oz\n",
            "                    </h1>\n",
            "<span class=\"uc-price-total uc-price\">\n",
            "<span class=\"price-prefixes\">\n",
            "                                     Total:\n",
            "                                    </span>\n",
            "                                    $324.00\n",
            "                                   </span>\n"
          ]
        }
      ]
    },
    {
      "cell_type": "code",
      "source": [
        "type(product)\n",
        "type(price)"
      ],
      "metadata": {
        "colab": {
          "base_uri": "https://localhost:8080/"
        },
        "id": "4OBCiT95_lMl",
        "outputId": "41e7b856-26f1-445c-ef11-dfadb056ffca"
      },
      "execution_count": 46,
      "outputs": [
        {
          "output_type": "execute_result",
          "data": {
            "text/plain": [
              "bs4.element.Tag"
            ]
          },
          "metadata": {},
          "execution_count": 46
        }
      ]
    },
    {
      "cell_type": "code",
      "source": [
        "import datetime\n",
        "today = datetime.date.today()\n",
        "print(today)"
      ],
      "metadata": {
        "colab": {
          "base_uri": "https://localhost:8080/"
        },
        "id": "3VrFyMMuFT88",
        "outputId": "45b5242b-d22c-4127-d3b9-7ed80cbf369c"
      },
      "execution_count": 63,
      "outputs": [
        {
          "output_type": "stream",
          "name": "stdout",
          "text": [
            "2022-06-10\n"
          ]
        }
      ]
    },
    {
      "cell_type": "code",
      "source": [
        "from google.colab import files\n",
        "import csv\n",
        "header = ['Title', 'Price', 'Date']\n",
        "data = [product,price, today]\n",
        "type(data)\n",
        "with open('promosite.csv', 'w', newline = '', encoding = 'UTF8') as f:\n",
        "  writer = csv.writer(f)\n",
        "  writer.writerow(header)\n",
        "  writer.writerow(data)\n",
        "\n",
        "#the below command downloads the file as a csv on the local machine\n",
        "#files.download('promosite.csv') "
      ],
      "metadata": {
        "colab": {
          "base_uri": "https://localhost:8080/",
          "height": 17
        },
        "id": "6R2kGC2h_Ojw",
        "outputId": "9130638e-1815-4eb0-bd00-3751d40f9e47"
      },
      "execution_count": 64,
      "outputs": [
        {
          "output_type": "display_data",
          "data": {
            "text/plain": [
              "<IPython.core.display.Javascript object>"
            ],
            "application/javascript": [
              "\n",
              "    async function download(id, filename, size) {\n",
              "      if (!google.colab.kernel.accessAllowed) {\n",
              "        return;\n",
              "      }\n",
              "      const div = document.createElement('div');\n",
              "      const label = document.createElement('label');\n",
              "      label.textContent = `Downloading \"${filename}\": `;\n",
              "      div.appendChild(label);\n",
              "      const progress = document.createElement('progress');\n",
              "      progress.max = size;\n",
              "      div.appendChild(progress);\n",
              "      document.body.appendChild(div);\n",
              "\n",
              "      const buffers = [];\n",
              "      let downloaded = 0;\n",
              "\n",
              "      const channel = await google.colab.kernel.comms.open(id);\n",
              "      // Send a message to notify the kernel that we're ready.\n",
              "      channel.send({})\n",
              "\n",
              "      for await (const message of channel.messages) {\n",
              "        // Send a message to notify the kernel that we're ready.\n",
              "        channel.send({})\n",
              "        if (message.buffers) {\n",
              "          for (const buffer of message.buffers) {\n",
              "            buffers.push(buffer);\n",
              "            downloaded += buffer.byteLength;\n",
              "            progress.value = downloaded;\n",
              "          }\n",
              "        }\n",
              "      }\n",
              "      const blob = new Blob(buffers, {type: 'application/binary'});\n",
              "      const a = document.createElement('a');\n",
              "      a.href = window.URL.createObjectURL(blob);\n",
              "      a.download = filename;\n",
              "      div.appendChild(a);\n",
              "      a.click();\n",
              "      div.remove();\n",
              "    }\n",
              "  "
            ]
          },
          "metadata": {}
        },
        {
          "output_type": "display_data",
          "data": {
            "text/plain": [
              "<IPython.core.display.Javascript object>"
            ],
            "application/javascript": [
              "download(\"download_e25d366b-8db8-49e9-aae9-38dbc10da9dc\", \"promosite.csv\", 398)"
            ]
          },
          "metadata": {}
        }
      ]
    },
    {
      "cell_type": "code",
      "source": [
        "import pandas as pd\n",
        "df = pd.read_csv('/content/promosite.csv')\n",
        "print(df)"
      ],
      "metadata": {
        "colab": {
          "base_uri": "https://localhost:8080/"
        },
        "id": "yQdiENcaC4Uz",
        "outputId": "9fb1c1bc-5444-4a0e-ed56-17716880d49d"
      },
      "execution_count": 71,
      "outputs": [
        {
          "output_type": "stream",
          "name": "stdout",
          "text": [
            "                                               Title  \\\n",
            "0  <h1 class=\"title\">\\n                     Custo...   \n",
            "1  <h1 class=\"title\">\\n                     Custo...   \n",
            "\n",
            "                                               Price        Date  \n",
            "0  <span class=\"uc-price-total uc-price\">\\n<span ...  2022-06-10  \n",
            "1  <span class=\"uc-price-total uc-price\">\\n<span ...  2022-06-10  \n"
          ]
        }
      ]
    },
    {
      "cell_type": "code",
      "source": [
        "#since we don't want to write the entire dataframe again and again hence we are changing the write operation to an append one also since the column header was created when we first created the file hence, we will only create row level data from 2nd turn onwards.\n",
        "with open('promosite.csv', 'a+', newline = '', encoding = 'UTF8') as f:\n",
        "  writer = csv.writer(f)\n",
        "  writer.writerow(data)"
      ],
      "metadata": {
        "id": "ff4X-ta0I_CK"
      },
      "execution_count": 68,
      "outputs": []
    },
    {
      "cell_type": "code",
      "source": [
        "#looping to record price change without manually checking the website\n",
        "\n",
        "def check_price():\n",
        "    url = 'https://www.4allpromos.com/product/himalayan-vacuum-insulated-tumbler-20-oz'\n",
        "\n",
        "    headers = {\"User-Agent\": \"Mozilla/5.0 (Macintosh; Intel Mac OS X 10_15_7) AppleWebKit/537.36 (KHTML, like Gecko) Chrome/102.0.0.0 Safari/537.36\", \"Accept-Encoding\":\"gzip, deflate\", \"Accept\":\"text/html,application/xhtml+xml,application/xml;q=0.9,*/*;q=0.8\", \"DNT\":\"1\",\"Connection\":\"close\", \"Upgrade-Insecure-Requests\":\"1\"}\n",
        "\n",
        "    page = requests.get(url,headers=headers)\n",
        "\n",
        "    soup = BeautifulSoup(page.content,\"html.parser\")\n",
        "    soup1 = BeautifulSoup(soup.prettify(),\"html.parser\")\n",
        "\n",
        "    product = soup1.find('h1', class_ ='title')\n",
        "    price = soup1.find(\"span\", {\"class\": \"uc-price-total uc-price\"})\n",
        "\n",
        "    import datetime\n",
        "    today = datetime.date.today()\n",
        "\n",
        "    import csv\n",
        "    header = ['Title', 'Price', 'Date']\n",
        "    data = [product,price, today]\n",
        "\n",
        "    with open('promosite.csv', 'w', newline = '', encoding = 'UTF8') as f:\n",
        "        writer = csv.writer(f)\n",
        "        writer.writerow(data)\n",
        "\n"
      ],
      "metadata": {
        "id": "gQlphr7iKQeE"
      },
      "execution_count": 73,
      "outputs": []
    },
    {
      "cell_type": "code",
      "source": [
        "while (True):\n",
        "    check_price()\n",
        "    time.sleep(86400)"
      ],
      "metadata": {
        "colab": {
          "base_uri": "https://localhost:8080/",
          "height": 201
        },
        "id": "stixjinDRNqJ",
        "outputId": "1130cd97-965c-4ca1-cf2d-156d64592762"
      },
      "execution_count": 74,
      "outputs": [
        {
          "output_type": "error",
          "ename": "KeyboardInterrupt",
          "evalue": "ignored",
          "traceback": [
            "\u001b[0;31m---------------------------------------------------------------------------\u001b[0m",
            "\u001b[0;31mKeyboardInterrupt\u001b[0m                         Traceback (most recent call last)",
            "\u001b[0;32m<ipython-input-74-2ecb815681f9>\u001b[0m in \u001b[0;36m<module>\u001b[0;34m()\u001b[0m\n\u001b[1;32m      1\u001b[0m \u001b[0;32mwhile\u001b[0m \u001b[0;34m(\u001b[0m\u001b[0;32mTrue\u001b[0m\u001b[0;34m)\u001b[0m\u001b[0;34m:\u001b[0m\u001b[0;34m\u001b[0m\u001b[0;34m\u001b[0m\u001b[0m\n\u001b[1;32m      2\u001b[0m     \u001b[0mcheck_price\u001b[0m\u001b[0;34m(\u001b[0m\u001b[0;34m)\u001b[0m\u001b[0;34m\u001b[0m\u001b[0;34m\u001b[0m\u001b[0m\n\u001b[0;32m----> 3\u001b[0;31m     \u001b[0mtime\u001b[0m\u001b[0;34m.\u001b[0m\u001b[0msleep\u001b[0m\u001b[0;34m(\u001b[0m\u001b[0;36m86400\u001b[0m\u001b[0;34m)\u001b[0m\u001b[0;34m\u001b[0m\u001b[0;34m\u001b[0m\u001b[0m\n\u001b[0m",
            "\u001b[0;31mKeyboardInterrupt\u001b[0m: "
          ]
        }
      ]
    },
    {
      "cell_type": "code",
      "source": [
        "import pandas as pd\n",
        "df = pd.read_csv('/content/promosite.csv')\n",
        "print(df)"
      ],
      "metadata": {
        "id": "yUYZ-fhtRbC0"
      },
      "execution_count": null,
      "outputs": []
    }
  ]
}